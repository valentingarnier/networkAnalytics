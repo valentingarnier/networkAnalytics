{
 "cells": [
  {
   "cell_type": "markdown",
   "metadata": {},
   "source": [
    "# Q1"
   ]
  },
  {
   "cell_type": "code",
   "execution_count": 1,
   "metadata": {},
   "outputs": [],
   "source": [
    "from scipy.io import loadmat\n",
    "import networkx as nx\n",
    "import matplotlib.pyplot as plt\n",
    "annots = loadmat('P1.mat')"
   ]
  },
  {
   "cell_type": "code",
   "execution_count": 2,
   "metadata": {},
   "outputs": [],
   "source": [
    "XX = annots['XX']"
   ]
  },
  {
   "cell_type": "code",
   "execution_count": 3,
   "metadata": {},
   "outputs": [
    {
     "data": {
      "text/plain": [
       "(20, 300, 6)"
      ]
     },
     "execution_count": 3,
     "metadata": {},
     "output_type": "execute_result"
    }
   ],
   "source": [
    "XX = XX.T\n",
    "XX.shape"
   ]
  },
  {
   "cell_type": "markdown",
   "metadata": {},
   "source": [
    "for our 6x300x20 tensor , we have 6 nodes , and each node has 20 vectors of 300 observations.\n",
    "we have to compute the directed informations for all pairs of X-Y nodes , with Z the remaining nodes.\n",
    "t is in (0,20)\n",
    " and n is in (0,300)"
   ]
  },
  {
   "cell_type": "markdown",
   "metadata": {},
   "source": [
    "The steps for our strategy will be as follows:\n",
    "- for every possible pair of nodes i, j\n",
    "    - we will have the node we will start from in s_x the target node in s_y and gather the remaining nodes in s_Z\n",
    "    - next we will construct x_t and y_t, x_t will be the start vector and y_t the target vector\n",
    "    - z_t will be a matrice covering all remaining vectors.\n",
    "    - x_t,y_t and z_t are the vectors of the time series of the corresponding set of nodes s_x, s_y and s_z\n",
    "    - we will concatenate the necessary vectors to create the matrices (m1, m2, m3, m4) for computing the covariance as explained by the hint, this will be our metric for directed information.\n",
    "    - Once we have the matrices m1, m2, m3, m4 we will compute the determinant of the covariance of these matrices and use it in the formula we have in the hint to compare it with our threshold of 0.6 and infer if there is an edge from node i to j."
   ]
  },
  {
   "cell_type": "code",
   "execution_count": 4,
   "metadata": {},
   "outputs": [],
   "source": [
    "import numpy as np"
   ]
  },
  {
   "cell_type": "code",
   "execution_count": 5,
   "metadata": {},
   "outputs": [],
   "source": [
    "I = np.zeros((6,6))\n",
    "K = np.zeros((6,6))"
   ]
  },
  {
   "cell_type": "code",
   "execution_count": 6,
   "metadata": {
    "scrolled": true
   },
   "outputs": [],
   "source": [
    "import math\n",
    "from scipy.linalg import det\n",
    "from numpy import cov\n",
    "import numpy as np\n",
    "\n",
    "all_nodes ={0, 1, 2, 3, 4, 5}\n",
    "\n",
    "T = 20\n",
    "\n",
    "for i in all_nodes:\n",
    "    for j in all_nodes:\n",
    "        if i == j:\n",
    "            continue\n",
    "        else:\n",
    "            s_x = {i}\n",
    "            s_y = {j}\n",
    "            s_z = all_nodes - s_x - s_y\n",
    "            x_t = XX[:,:,i] \n",
    "            y_t = XX[:,:,j]  \n",
    "\n",
    "            z_t = []\n",
    "            for k in s_z:\n",
    "                z_t.append(XX[:,:,k])\n",
    "                \n",
    "            z_t = np.asarray(z_t)\n",
    "            \n",
    "            k = 0\n",
    "            for t in np.arange(1,T):\n",
    "                if t == 1:\n",
    "                    m1 = np.concatenate((y_t[1,:].reshape(-1,300),z_t[:,0,:].reshape(-1,300)))\n",
    "                    m2 = np.concatenate( (x_t[0,:].reshape(-1,300) , np.concatenate((y_t[0,:].reshape(-1,300),z_t[:,0,:].reshape(-1,300)))) )\n",
    "                    m3 = np.concatenate((y_t[0,:].reshape(-1,300),z_t[:,0,:].reshape(-1,300)))\n",
    "                    m4 = np.concatenate( (x_t[0,:].reshape(-1,300) , np.concatenate((y_t[1,:].reshape(-1,300),z_t[:,0,:].reshape(-1,300)))) )\n",
    "                    \n",
    "                    c1 = cov(m1)\n",
    "                    d1 = det(c1)\n",
    "\n",
    "                    c2 = cov(m2)\n",
    "                    d2 = det(c2)\n",
    "\n",
    "                    c3 = cov(m3)\n",
    "                    d3 = det(c3)\n",
    "\n",
    "                    c4 = cov(m4)                \n",
    "                    d4 = det(c4)\n",
    "                else:\n",
    "                    m1 = np.concatenate((y_t[:t,:],z_t[:,:t,:].reshape(-1,300)))\n",
    "                    m2 = np.concatenate( (x_t[:t-1,:] , np.concatenate((y_t[:t-1,:],z_t[:,:t-1,:].reshape(-1,300)))) )\n",
    "                    m3 = np.concatenate((y_t[:t-1,:],z_t[:,:t,:].reshape(-1,300)))\n",
    "                    m4 = np.concatenate( (x_t[:t-1,:] , np.concatenate((y_t[:t,:],z_t[:,:t-1,:].reshape(-1,300)))) )\n",
    "\n",
    "                    c1 = cov(m1)\n",
    "                    d1 = det(c1)\n",
    "\n",
    "                    c2 = cov(m2)\n",
    "                    d2 = det(c2)\n",
    "\n",
    "                    c3 = cov(m3)\n",
    "                    d3 = det(c3)\n",
    "\n",
    "                    c4 = cov(m4)                \n",
    "                    d4 = det(c4)\n",
    "                \n",
    "                k += 0.5 * np.log( (d1 * d2) / (d3 * d4) )\n",
    "            \n",
    "            if k < 0.6:\n",
    "                e = 0\n",
    "            else:\n",
    "                e = 1\n",
    "                \n",
    "        I[i][j] = e\n",
    "        K[i][j] = k\n",
    "        "
   ]
  },
  {
   "cell_type": "code",
   "execution_count": 7,
   "metadata": {},
   "outputs": [
    {
     "data": {
      "text/plain": [
       "array([[0.        , 2.89265904, 2.21672985, 0.38905283, 0.37191812,\n",
       "        2.5311327 ],\n",
       "       [0.38388234, 0.        , 3.20959964, 3.30923346, 0.12749827,\n",
       "        0.33370164],\n",
       "       [3.16390179, 0.40647516, 0.        , 2.52739063, 0.34300504,\n",
       "        2.85024294],\n",
       "       [0.29058888, 3.85107254, 0.31853359, 0.        , 0.34848825,\n",
       "        3.3650756 ],\n",
       "       [0.44800714, 0.16801578, 3.02534208, 0.43023454, 0.        ,\n",
       "        0.36217349],\n",
       "       [0.27564532, 3.30946192, 0.37021113, 2.95385126, 2.58587566,\n",
       "        0.        ]])"
      ]
     },
     "execution_count": 7,
     "metadata": {},
     "output_type": "execute_result"
    }
   ],
   "source": [
    "K"
   ]
  },
  {
   "cell_type": "code",
   "execution_count": 8,
   "metadata": {
    "scrolled": false
   },
   "outputs": [
    {
     "data": {
      "text/plain": [
       "array([[0., 1., 1., 0., 0., 1.],\n",
       "       [0., 0., 1., 1., 0., 0.],\n",
       "       [1., 0., 0., 1., 0., 1.],\n",
       "       [0., 1., 0., 0., 0., 1.],\n",
       "       [0., 0., 1., 0., 0., 0.],\n",
       "       [0., 1., 0., 1., 1., 0.]])"
      ]
     },
     "execution_count": 8,
     "metadata": {},
     "output_type": "execute_result"
    }
   ],
   "source": [
    "I"
   ]
  },
  {
   "cell_type": "code",
   "execution_count": 9,
   "metadata": {},
   "outputs": [
    {
     "data": {
      "image/png": "[encoded data removed]",
      "text/plain": [
       "<Figure size 432x288 with 1 Axes>"
      ]
     },
     "metadata": {},
     "output_type": "display_data"
    }
   ],
   "source": [
    "G=nx.from_numpy_matrix(I,create_using=nx.MultiDiGraph())\n",
    "nx.draw(G,with_labels=True)"
   ]
  },
  {
   "cell_type": "markdown",
   "metadata": {},
   "source": [
    "# Q2"
   ]
  },
  {
   "cell_type": "markdown",
   "metadata": {},
   "source": [
    "For this question we will use the least squares function provided in the linalg library of numpy to estimate the coefficient matrice A"
   ]
  },
  {
   "cell_type": "code",
   "execution_count": 15,
   "metadata": {},
   "outputs": [
    {
     "data": {
      "text/plain": [
       "(20, 300, 6)"
      ]
     },
     "execution_count": 15,
     "metadata": {},
     "output_type": "execute_result"
    }
   ],
   "source": [
    "data = XX[:]\n",
    "data.shape"
   ]
  },
  {
   "cell_type": "code",
   "execution_count": 23,
   "metadata": {
    "scrolled": true
   },
   "outputs": [],
   "source": [
    "X = np.asarray(XX[1:20,:,:].reshape(-1,6)[::-1])\n",
    "Y = np.asarray(XX[0:19,:,:].reshape(-1,6)[::-1])"
   ]
  },
  {
   "cell_type": "code",
   "execution_count": null,
   "metadata": {},
   "outputs": [],
   "source": []
  },
  {
   "cell_type": "code",
   "execution_count": 24,
   "metadata": {},
   "outputs": [
    {
     "name": "stderr",
     "output_type": "stream",
     "text": [
      "/Users/nourghribi/anaconda3/lib/python3.7/site-packages/ipykernel_launcher.py:1: FutureWarning: `rcond` parameter will change to the default of machine precision times ``max(M, N)`` where M and N are the input matrix dimensions.\n",
      "To use the future default and silence this warning we advise to pass `rcond=None`, to keep using the old, explicitly pass `rcond=-1`.\n",
      "  \"\"\"Entry point for launching an IPython kernel.\n"
     ]
    },
    {
     "data": {
      "text/plain": [
       "(array([[ 0.1756831 ,  0.16143323,  0.69357485, -0.20720453, -0.08030037,\n",
       "          0.08922994],\n",
       "        [ 0.12392517, -0.063517  , -0.14850169,  0.51741394,  0.0580263 ,\n",
       "         -0.48793853],\n",
       "        [-0.11175009,  0.6928754 , -0.07618762,  0.25370263,  0.58765154,\n",
       "          0.24365896],\n",
       "        [-0.11863202,  0.27991526, -0.28426369, -0.21815702, -0.10089072,\n",
       "         -0.33982937],\n",
       "        [-0.31381494, -0.35180088, -0.0760884 ,  0.06405831, -0.11333782,\n",
       "         -0.65603211],\n",
       "        [-0.50835554, -0.02136978,  0.27841275,  0.40996637, -0.10346416,\n",
       "         -0.28965374]]),\n",
       " array([4573.19151745, 5835.18281524, 4932.28512258, 3772.77946849,\n",
       "        4631.09499106, 5011.30744064]),\n",
       " 6,\n",
       " array([282.82430013, 183.01147894, 178.83873385,  81.13445928,\n",
       "         73.11352895,  65.68065739]))"
      ]
     },
     "execution_count": 24,
     "metadata": {},
     "output_type": "execute_result"
    }
   ],
   "source": [
    "a = np.linalg.lstsq(X, Y)\n",
    "a"
   ]
  },
  {
   "cell_type": "code",
   "execution_count": 25,
   "metadata": {},
   "outputs": [
    {
     "data": {
      "text/plain": [
       "array([[ 0.1756831 ,  0.16143323,  0.69357485, -0.20720453, -0.08030037,\n",
       "         0.08922994],\n",
       "       [ 0.12392517, -0.063517  , -0.14850169,  0.51741394,  0.0580263 ,\n",
       "        -0.48793853],\n",
       "       [-0.11175009,  0.6928754 , -0.07618762,  0.25370263,  0.58765154,\n",
       "         0.24365896],\n",
       "       [-0.11863202,  0.27991526, -0.28426369, -0.21815702, -0.10089072,\n",
       "        -0.33982937],\n",
       "       [-0.31381494, -0.35180088, -0.0760884 ,  0.06405831, -0.11333782,\n",
       "        -0.65603211],\n",
       "       [-0.50835554, -0.02136978,  0.27841275,  0.40996637, -0.10346416,\n",
       "        -0.28965374]])"
      ]
     },
     "execution_count": 25,
     "metadata": {},
     "output_type": "execute_result"
    }
   ],
   "source": [
    "A = a[0]\n",
    "A"
   ]
  },
  {
   "cell_type": "code",
   "execution_count": 26,
   "metadata": {},
   "outputs": [
    {
     "data": {
      "text/plain": [
       "(6, 6)"
      ]
     },
     "execution_count": 26,
     "metadata": {},
     "output_type": "execute_result"
    }
   ],
   "source": [
    "A.shape"
   ]
  },
  {
   "cell_type": "code",
   "execution_count": null,
   "metadata": {},
   "outputs": [],
   "source": []
  },
  {
   "cell_type": "code",
   "execution_count": null,
   "metadata": {},
   "outputs": [],
   "source": []
  }
 ],
 "metadata": {
  "kernelspec": {
   "display_name": "Python 3",
   "language": "python",
   "name": "python3"
  },
  "language_info": {
   "codemirror_mode": {
    "name": "ipython",
    "version": 3
   },
   "file_extension": ".py",
   "mimetype": "text/x-python",
   "name": "python",
   "nbconvert_exporter": "python",
   "pygments_lexer": "ipython3",
   "version": "3.7.0"
  },
  "latex_envs": {
   "LaTeX_envs_menu_present": true,
   "autoclose": false,
   "autocomplete": true,
   "bibliofile": "biblio.bib",
   "cite_by": "apalike",
   "current_citInitial": 1,
   "eqLabelWithNumbers": true,
   "eqNumInitial": 1,
   "hotkeys": {
    "equation": "Ctrl-E",
    "itemize": "Ctrl-I"
   },
   "labels_anchors": false,
   "latex_user_defs": false,
   "report_style_numbering": false,
   "user_envs_cfg": false
  },
  "toc": {
   "base_numbering": 1,
   "nav_menu": {},
   "number_sections": true,
   "sideBar": true,
   "skip_h1_title": false,
   "title_cell": "Table of Contents",
   "title_sidebar": "Contents",
   "toc_cell": false,
   "toc_position": {},
   "toc_section_display": true,
   "toc_window_display": false
  }
 },
 "nbformat": 4,
 "nbformat_minor": 2
}
