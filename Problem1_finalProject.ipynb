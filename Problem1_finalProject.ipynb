{
 "cells": [
  {
   "cell_type": "code",
   "execution_count": 1,
   "metadata": {},
   "outputs": [],
   "source": [
    "import networkx as nx\n",
    "import math\n",
    "import scipy.io as sio\n",
    "import pandas as pd\n",
    "import numpy as np\n",
    "import matplotlib.pyplot as plt\n",
    "import itertools\n",
    "from scipy.stats import norm"
   ]
  },
  {
   "cell_type": "code",
   "execution_count": 2,
   "metadata": {},
   "outputs": [
    {
     "name": "stdout",
     "output_type": "stream",
     "text": [
      "(10000, 8)\n"
     ]
    },
    {
     "data": {
      "text/html": [
       "<div>\n",
       "<style scoped>\n",
       "    .dataframe tbody tr th:only-of-type {\n",
       "        vertical-align: middle;\n",
       "    }\n",
       "\n",
       "    .dataframe tbody tr th {\n",
       "        vertical-align: top;\n",
       "    }\n",
       "\n",
       "    .dataframe thead th {\n",
       "        text-align: right;\n",
       "    }\n",
       "</style>\n",
       "<table border=\"1\" class=\"dataframe\">\n",
       "  <thead>\n",
       "    <tr style=\"text-align: right;\">\n",
       "      <th></th>\n",
       "      <th>0</th>\n",
       "      <th>1</th>\n",
       "      <th>2</th>\n",
       "      <th>3</th>\n",
       "      <th>4</th>\n",
       "      <th>5</th>\n",
       "      <th>6</th>\n",
       "      <th>7</th>\n",
       "    </tr>\n",
       "  </thead>\n",
       "  <tbody>\n",
       "    <tr>\n",
       "      <th>0</th>\n",
       "      <td>0.110542</td>\n",
       "      <td>1.042710</td>\n",
       "      <td>-1.575183</td>\n",
       "      <td>1.055074</td>\n",
       "      <td>-0.148899</td>\n",
       "      <td>1.062382</td>\n",
       "      <td>0.116945</td>\n",
       "      <td>-0.244467</td>\n",
       "    </tr>\n",
       "    <tr>\n",
       "      <th>1</th>\n",
       "      <td>1.397050</td>\n",
       "      <td>0.257278</td>\n",
       "      <td>-0.351936</td>\n",
       "      <td>-0.232494</td>\n",
       "      <td>1.344092</td>\n",
       "      <td>-0.060821</td>\n",
       "      <td>0.387983</td>\n",
       "      <td>1.618541</td>\n",
       "    </tr>\n",
       "    <tr>\n",
       "      <th>2</th>\n",
       "      <td>0.690281</td>\n",
       "      <td>1.321500</td>\n",
       "      <td>1.417502</td>\n",
       "      <td>0.982115</td>\n",
       "      <td>-0.716820</td>\n",
       "      <td>-0.508841</td>\n",
       "      <td>-1.768362</td>\n",
       "      <td>2.926619</td>\n",
       "    </tr>\n",
       "    <tr>\n",
       "      <th>3</th>\n",
       "      <td>-0.634045</td>\n",
       "      <td>-1.255488</td>\n",
       "      <td>-0.578344</td>\n",
       "      <td>-0.305612</td>\n",
       "      <td>0.273759</td>\n",
       "      <td>0.533964</td>\n",
       "      <td>-1.647791</td>\n",
       "      <td>-0.963040</td>\n",
       "    </tr>\n",
       "    <tr>\n",
       "      <th>4</th>\n",
       "      <td>-0.376387</td>\n",
       "      <td>0.863437</td>\n",
       "      <td>-0.296768</td>\n",
       "      <td>0.625518</td>\n",
       "      <td>-0.577722</td>\n",
       "      <td>0.855256</td>\n",
       "      <td>2.067983</td>\n",
       "      <td>-0.582378</td>\n",
       "    </tr>\n",
       "  </tbody>\n",
       "</table>\n",
       "</div>"
      ],
      "text/plain": [
       "          0         1         2         3         4         5         6  \\\n",
       "0  0.110542  1.042710 -1.575183  1.055074 -0.148899  1.062382  0.116945   \n",
       "1  1.397050  0.257278 -0.351936 -0.232494  1.344092 -0.060821  0.387983   \n",
       "2  0.690281  1.321500  1.417502  0.982115 -0.716820 -0.508841 -1.768362   \n",
       "3 -0.634045 -1.255488 -0.578344 -0.305612  0.273759  0.533964 -1.647791   \n",
       "4 -0.376387  0.863437 -0.296768  0.625518 -0.577722  0.855256  2.067983   \n",
       "\n",
       "          7  \n",
       "0 -0.244467  \n",
       "1  1.618541  \n",
       "2  2.926619  \n",
       "3 -0.963040  \n",
       "4 -0.582378  "
      ]
     },
     "execution_count": 2,
     "metadata": {},
     "output_type": "execute_result"
    }
   ],
   "source": [
    "data = sio.loadmat('Data.mat')['D']\n",
    "print(data.shape)\n",
    "df = pd.DataFrame(data)\n",
    "df.head()"
   ]
  },
  {
   "cell_type": "code",
   "execution_count": 3,
   "metadata": {},
   "outputs": [],
   "source": [
    "G = nx.Graph()\n",
    "vertex_set = [i for i in range(df.shape[1])]"
   ]
  },
  {
   "cell_type": "code",
   "execution_count": 4,
   "metadata": {},
   "outputs": [],
   "source": [
    "for v in vertex_set:\n",
    "    G.add_node(v)"
   ]
  },
  {
   "cell_type": "markdown",
   "metadata": {},
   "source": [
    "# Implementation of PC pop Algorithm"
   ]
  },
  {
   "cell_type": "code",
   "execution_count": 5,
   "metadata": {},
   "outputs": [],
   "source": [
    "def nodes_connected(u, v):\n",
    "    return u in G.neighbors(v)"
   ]
  },
  {
   "cell_type": "code",
   "execution_count": 6,
   "metadata": {},
   "outputs": [],
   "source": [
    "def compute_pairs(): #O(n^2)\n",
    "    adj_vertices = []\n",
    "    for i in range(len(vertex_set)):\n",
    "        for j in range(i+1, len(vertex_set)):\n",
    "            if nodes_connected(vertex_set[i], vertex_set[j]):\n",
    "                adj_vertices.append((vertex_set[i], vertex_set[j]))\n",
    "    return adj_vertices"
   ]
  },
  {
   "cell_type": "code",
   "execution_count": 7,
   "metadata": {},
   "outputs": [],
   "source": [
    "def remove_in_adj(x, y): #O(d_max)\n",
    "    result = set()\n",
    "    for i in G.adj[x]:  \n",
    "        if i != y:\n",
    "            result.add(i)\n",
    "    return result"
   ]
  },
  {
   "cell_type": "code",
   "execution_count": 125,
   "metadata": {},
   "outputs": [],
   "source": [
    "def compute_subsets(set_, k): #O(n^k)\n",
    "    return list(itertools.combinations(set_, k))"
   ]
  },
  {
   "cell_type": "code",
   "execution_count": 126,
   "metadata": {},
   "outputs": [],
   "source": [
    "def finished(d): #O(n^3)\n",
    "    all_done = True\n",
    "    for (x, y) in compute_pairs(): #O(n^2)\n",
    "        new_adj_set = remove_in_adj(x, y) #O(n)\n",
    "        if len(new_adj_set) >= d:\n",
    "            all_done = False\n",
    "    return all_done"
   ]
  },
  {
   "cell_type": "code",
   "execution_count": 170,
   "metadata": {},
   "outputs": [],
   "source": [
    "# Conditional independence test\n",
    "def gaussCItest(suffStat, x, y, S): #O(1)\n",
    "    C = suffStat[\"C\"]\n",
    "    n = suffStat[\"n\"]\n",
    "\n",
    "    cut_at = 0.9999999\n",
    "\n",
    "    # bias coefficient (math.)\n",
    "    # There's no nodes in S.\n",
    "    if len(S) == 0:\n",
    "        r = C[x, y]\n",
    "\n",
    "    # There's only one node in S, the first-order bias correlation coefficient.\n",
    "    elif len(S) == 1:\n",
    "        r = (C[x, y] - C[x, S] * C[y, S]) / math.sqrt((1 - math.pow(C[y, S], 2)) * (1 - math.pow(C[x, S], 2)))\n",
    "\n",
    "    # I actually don't quite understand what's being begged here, \n",
    "    # but that's what the pcalg package for the R language says\n",
    "    else:\n",
    "        #print(x, y, list(S))\n",
    "        m = C[np.ix_([x]+[y]+S, [x]+[y]+S)]\n",
    "        PM = np.linalg.pinv(m)\n",
    "        r = -1 * PM[0, 1] / math.sqrt(abs(PM[0, 0] * PM[1, 1]))\n",
    "\n",
    "    r = min(cut_at, max(-1*cut_at, r))\n",
    "    # Fisher’s z-transform\n",
    "    res = math.sqrt(n - len(S) - 3) * .5 * math.log1p((2 * r) / (1 - r))\n",
    "    # Φ^{-1}(1-α/2)\n",
    "    return 2 * (1 - norm.cdf(abs(res)))"
   ]
  },
  {
   "cell_type": "code",
   "execution_count": 179,
   "metadata": {},
   "outputs": [],
   "source": [
    "def pc_pop_algo(vertex_set, df, alpha):\n",
    "    #First step: Construct the complete undirected graph on the vertex set V\n",
    "    for i in range(len(vertex_set)):\n",
    "        for j in range(i+1, len(vertex_set)):\n",
    "            G.add_edge(vertex_set[i], vertex_set[j])\n",
    "            \n",
    "    #nx.draw(G, with_labels = True)\n",
    "    \n",
    "    #Second step: Perform conditional independence tests at a given significance level α \n",
    "    #and delete edges based on the tests.\n",
    "    d = 0\n",
    "    all_done = False\n",
    "    separation_sets = {}\n",
    "    \n",
    "    # Sufficient Statistic\n",
    "    n = df.values.shape[0]\n",
    "    C = df.corr().values\n",
    "    suffStat={\"C\": C, \"n\": n}\n",
    "    \n",
    "    # counter to determine complexity of the algorithm\n",
    "    counter = 0\n",
    "    c_1=0 #boucle while\n",
    "    c_2=0 #1e boucle for\n",
    "    c_3=0 #2e boucle for\n",
    "    while not finished(d): #O(n^3)\n",
    "        c_1+=1\n",
    "        for (x, y) in compute_pairs(): #O(n^2)\n",
    "            new_adj_set = remove_in_adj(x, y) #O(d_max)\n",
    "            c_2+=1\n",
    "            if len(new_adj_set) >= d:\n",
    "                for z in compute_subsets(new_adj_set, d): #O(n^k)\n",
    "                    c_3+=1\n",
    "                    #Test conditional independance I(x, y | z) and remove edge\n",
    "                    counter += 1\n",
    "                    z = list(set(z))\n",
    "                    pVal = gaussCItest(suffStat, x, y, z)\n",
    "                    \n",
    "                    threshold = norm.pdf(1 - alpha/2)**(-1) / math.sqrt(n - len(z) - 3)\n",
    "                    if pVal > threshold:\n",
    "                        if G.has_edge(x, y):\n",
    "                            G.remove_edge(x, y)\n",
    "                            if (x, y) not in separation_sets:\n",
    "                                separation_sets[(x, y)] = z\n",
    "                                separation_sets[(y, x)] = z\n",
    "                            else:\n",
    "                                separation_sets[(x, y)].append(z)\n",
    "                                separation_sets[(y, x)].append(z)\n",
    "                #print('c_3: ',c_3)\n",
    "                c_3 = 0\n",
    "        d = d + 1\n",
    "       #print('c_2: ', c_2)\n",
    "        c_2 = 0\n",
    "    #print('c_1: ', c_1)\n",
    "        \n",
    "    return G, separation_sets, counter "
   ]
  },
  {
   "cell_type": "markdown",
   "metadata": {},
   "source": [
    "# Plot after PC-Algorithm"
   ]
  },
  {
   "cell_type": "code",
   "execution_count": 180,
   "metadata": {
    "scrolled": false
   },
   "outputs": [
    {
     "data": {
      "image/png": "[encoded data removed]",
      "text/plain": [
       "<Figure size 432x288 with 1 Axes>"
      ]
     },
     "metadata": {},
     "output_type": "display_data"
    }
   ],
   "source": [
    "# Plot of the graph G for the observational data after PC-Algorithm.\n",
    "G_new, separation_sets, counter = pc_pop_algo(vertex_set, df, 0.9)\n",
    "nx.draw(G_new, with_labels = True)"
   ]
  },
  {
   "cell_type": "markdown",
   "metadata": {},
   "source": [
    "# Meek Rules"
   ]
  },
  {
   "cell_type": "code",
   "execution_count": 49,
   "metadata": {},
   "outputs": [
    {
     "data": {
      "text/plain": [
       "[4]"
      ]
     },
     "execution_count": 49,
     "metadata": {},
     "output_type": "execute_result"
    }
   ],
   "source": [
    "list(nx.common_neighbors(G_new, 0, 6))"
   ]
  },
  {
   "cell_type": "code",
   "execution_count": 160,
   "metadata": {},
   "outputs": [],
   "source": [
    "def meek_rules(G_skel, separation_sets):\n",
    "    #orient v structures : third part in the project pdf\n",
    "    G_skel_copy = G_skel.copy()\n",
    "    G_skel_directed = G_skel_copy.to_directed()    \n",
    "    for i in range(len(vertex_set)):\n",
    "        for j in range(i + 1, len(vertex_set)):\n",
    "                if not nodes_connected(vertex_set[i], vertex_set[j]):\n",
    "                    common_neighbors = list(nx.common_neighbors(G_skel, vertex_set[i], vertex_set[j]))\n",
    "                    if len(common_neighbors) > 0:\n",
    "                        for k in common_neighbors:\n",
    "                            if k not in separation_sets[(vertex_set[i], vertex_set[j])]:\n",
    "                                if G_skel_directed.has_edge(k, vertex_set[i]) and G_skel_directed.has_edge(k, vertex_set[j]):\n",
    "                                    G_skel_directed.remove_edge(k, i)\n",
    "                                    G_skel_directed.remove_edge(k, j)\n",
    "    #nx.draw(G_skel_directed, with_labels = True)\n",
    "\n",
    "    #Now work with as many undirected edges possible\n",
    "    #Apply meek rules on all remaining undirected edges\n",
    "    for i in range(len(vertex_set)):\n",
    "        for j in range(i + 1, len(vertex_set)):\n",
    "            x, y = vertex_set[i], vertex_set[j]\n",
    "            #If the two are linked by two edges = undirected edges\n",
    "            # We only deal with undirected edges\n",
    "            if G_skel_directed.has_edge(x, y) and G_skel_directed.has_edge(y, x):\n",
    "                #R1\n",
    "                in_edges_x = list(G_skel_directed.in_edges(x))\n",
    "                if len(in_edges_x) > 0:\n",
    "                    for e in in_edges_x:\n",
    "                        if not nodes_connected(e[0], y):\n",
    "                            if G_skel_directed.has_edge(y, x):\n",
    "                                G_skel_directed.remove_edge(y, x)\n",
    "                #R2\n",
    "                out_edges_x = list(map(lambda x: x[1], list(G_skel_directed.out_edges(x))))\n",
    "                in_edges_x = list(map(lambda x: x[0], list(G_skel_directed.in_edges(x))))\n",
    "                in_edges_y = list(map(lambda x: x[0], list(G_skel_directed.in_edges(y))))\n",
    "                if len(set(out_edges_x).intersection(set(in_edges_y))) > 0:\n",
    "                    if G_skel_directed.has_edge(y, x):\n",
    "                        G_skel_directed.remove_edge(y, x)\n",
    "                #R3\n",
    "                candidates_R3 = set(out_edges_x).intersection(set(in_edges_x))\n",
    "                if len(candidates_R3) >= 2:\n",
    "                    for k in candidates_R3:\n",
    "                        for l in candidates_R3:\n",
    "                            if k != l:\n",
    "                                if k in in_edges_y and l in in_edges_y:\n",
    "                                    if not nodes_connected(k, l) and not nodes_connected(l, k):\n",
    "                                        if G_skel_directed.has_edge(y, x):\n",
    "                                            G_skel_directed.remove_edge(y, x)      \n",
    "                #R4\n",
    "                if len(candidates_R3) >= 1:\n",
    "                    for k in candidates_R3:\n",
    "                        out_edges_k = list(map(lambda x: x[1], list(G_skel_directed.out_edges(k))))\n",
    "                        for l in out_edges_k:\n",
    "                            if l in in_edges_y:\n",
    "                                if not nodes_connected(k, l) and not nodes_connected(l, k):\n",
    "                                    if G_skel_directed.has_edge(y, x):\n",
    "                                        G_skel_directed.remove_edge(y, x) \n",
    "    nx.draw(G_skel_directed, with_labels = True)\n",
    "    return G_skel_directed"
   ]
  },
  {
   "cell_type": "code",
   "execution_count": 161,
   "metadata": {},
   "outputs": [
    {
     "data": {
      "image/png": "[encoded data removed]",
      "text/plain": [
       "<Figure size 432x288 with 1 Axes>"
      ]
     },
     "metadata": {},
     "output_type": "display_data"
    }
   ],
   "source": [
    "G_meek = meek_rules(G_new, separation_sets)"
   ]
  },
  {
   "cell_type": "markdown",
   "metadata": {},
   "source": [
    "# Number of DAGS"
   ]
  },
  {
   "cell_type": "code",
   "execution_count": 88,
   "metadata": {},
   "outputs": [],
   "source": [
    "cb_3 = list(itertools.combinations([0, 1, 2, 3, 4, 5, 6, 7], 3))\n",
    "cb_4 = list(itertools.combinations([0, 1, 2, 3, 4, 5, 6, 7], 4))\n",
    "cb_5 = list(itertools.combinations([0, 1, 2, 3, 4, 5, 6, 7], 5))\n",
    "cb_6 = list(itertools.combinations([0, 1, 2, 3, 4, 5, 6, 7], 6))\n",
    "all_cb = cb_3 + cb_4 + cb_5 + cb_6\n",
    "all_cb = set(all_cb)"
   ]
  },
  {
   "cell_type": "code",
   "execution_count": 89,
   "metadata": {},
   "outputs": [],
   "source": [
    "counter_dags = 0\n",
    "for elem in all_cb:\n",
    "    g_temp = G_meek.subgraph(list(elem))\n",
    "    if len(g_temp.edges) >= len(g_temp.nodes) - 1:\n",
    "        if nx.is_directed_acyclic_graph(g_temp):\n",
    "            counter_dags += 1"
   ]
  },
  {
   "cell_type": "code",
   "execution_count": 90,
   "metadata": {},
   "outputs": [
    {
     "name": "stdout",
     "output_type": "stream",
     "text": [
      "39\n"
     ]
    }
   ],
   "source": [
    "print(counter_dags)"
   ]
  },
  {
   "cell_type": "markdown",
   "metadata": {},
   "source": [
    "# Complexity of PC Algorithm"
   ]
  },
  {
   "cell_type": "markdown",
   "metadata": {},
   "source": [
    "### Consider Conditional Independence Tests as elementary operations of this algorithm. We added a counter variable in the algorithm in order to count the elementary operations => O(n^k+d_max+5)"
   ]
  },
  {
   "cell_type": "code",
   "execution_count": 47,
   "metadata": {},
   "outputs": [
    {
     "data": {
      "text/plain": [
       "163"
      ]
     },
     "execution_count": 47,
     "metadata": {},
     "output_type": "execute_result"
    }
   ],
   "source": [
    "counter "
   ]
  },
  {
   "cell_type": "code",
   "execution_count": 50,
   "metadata": {},
   "outputs": [
    {
     "data": {
      "text/plain": [
       "4"
      ]
     },
     "execution_count": 50,
     "metadata": {},
     "output_type": "execute_result"
    }
   ],
   "source": [
    "# Maximum degree of the graph \n",
    "d_max = max(G_new.degree)[1] "
   ]
  }
 ],
 "metadata": {
  "kernelspec": {
   "display_name": "Python 3",
   "language": "python",
   "name": "python3"
  },
  "language_info": {
   "codemirror_mode": {
    "name": "ipython",
    "version": 3
   },
   "file_extension": ".py",
   "mimetype": "text/x-python",
   "name": "python",
   "nbconvert_exporter": "python",
   "pygments_lexer": "ipython3",
   "version": "3.7.3"
  }
 },
 "nbformat": 4,
 "nbformat_minor": 2
}
