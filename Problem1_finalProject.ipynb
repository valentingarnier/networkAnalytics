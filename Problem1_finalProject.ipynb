{
 "cells": [
  {
   "cell_type": "code",
   "execution_count": 98,
   "metadata": {},
   "outputs": [],
   "source": [
    "import networkx as nx\n",
    "import math\n",
    "import scipy.io as sio\n",
    "import pandas as pd\n",
    "import matplotlib.pyplot as plt\n",
    "import itertools"
   ]
  },
  {
   "cell_type": "code",
   "execution_count": 2,
   "metadata": {},
   "outputs": [
    {
     "name": "stdout",
     "output_type": "stream",
     "text": [
      "(10000, 8)\n"
     ]
    },
    {
     "data": {
      "text/html": [
       "<div>\n",
       "<style scoped>\n",
       "    .dataframe tbody tr th:only-of-type {\n",
       "        vertical-align: middle;\n",
       "    }\n",
       "\n",
       "    .dataframe tbody tr th {\n",
       "        vertical-align: top;\n",
       "    }\n",
       "\n",
       "    .dataframe thead th {\n",
       "        text-align: right;\n",
       "    }\n",
       "</style>\n",
       "<table border=\"1\" class=\"dataframe\">\n",
       "  <thead>\n",
       "    <tr style=\"text-align: right;\">\n",
       "      <th></th>\n",
       "      <th>0</th>\n",
       "      <th>1</th>\n",
       "      <th>2</th>\n",
       "      <th>3</th>\n",
       "      <th>4</th>\n",
       "      <th>5</th>\n",
       "      <th>6</th>\n",
       "      <th>7</th>\n",
       "    </tr>\n",
       "  </thead>\n",
       "  <tbody>\n",
       "    <tr>\n",
       "      <th>0</th>\n",
       "      <td>0.110542</td>\n",
       "      <td>1.042710</td>\n",
       "      <td>-1.575183</td>\n",
       "      <td>1.055074</td>\n",
       "      <td>-0.148899</td>\n",
       "      <td>1.062382</td>\n",
       "      <td>0.116945</td>\n",
       "      <td>-0.244467</td>\n",
       "    </tr>\n",
       "    <tr>\n",
       "      <th>1</th>\n",
       "      <td>1.397050</td>\n",
       "      <td>0.257278</td>\n",
       "      <td>-0.351936</td>\n",
       "      <td>-0.232494</td>\n",
       "      <td>1.344092</td>\n",
       "      <td>-0.060821</td>\n",
       "      <td>0.387983</td>\n",
       "      <td>1.618541</td>\n",
       "    </tr>\n",
       "    <tr>\n",
       "      <th>2</th>\n",
       "      <td>0.690281</td>\n",
       "      <td>1.321500</td>\n",
       "      <td>1.417502</td>\n",
       "      <td>0.982115</td>\n",
       "      <td>-0.716820</td>\n",
       "      <td>-0.508841</td>\n",
       "      <td>-1.768362</td>\n",
       "      <td>2.926619</td>\n",
       "    </tr>\n",
       "    <tr>\n",
       "      <th>3</th>\n",
       "      <td>-0.634045</td>\n",
       "      <td>-1.255488</td>\n",
       "      <td>-0.578344</td>\n",
       "      <td>-0.305612</td>\n",
       "      <td>0.273759</td>\n",
       "      <td>0.533964</td>\n",
       "      <td>-1.647791</td>\n",
       "      <td>-0.963040</td>\n",
       "    </tr>\n",
       "    <tr>\n",
       "      <th>4</th>\n",
       "      <td>-0.376387</td>\n",
       "      <td>0.863437</td>\n",
       "      <td>-0.296768</td>\n",
       "      <td>0.625518</td>\n",
       "      <td>-0.577722</td>\n",
       "      <td>0.855256</td>\n",
       "      <td>2.067983</td>\n",
       "      <td>-0.582378</td>\n",
       "    </tr>\n",
       "  </tbody>\n",
       "</table>\n",
       "</div>"
      ],
      "text/plain": [
       "          0         1         2         3         4         5         6  \\\n",
       "0  0.110542  1.042710 -1.575183  1.055074 -0.148899  1.062382  0.116945   \n",
       "1  1.397050  0.257278 -0.351936 -0.232494  1.344092 -0.060821  0.387983   \n",
       "2  0.690281  1.321500  1.417502  0.982115 -0.716820 -0.508841 -1.768362   \n",
       "3 -0.634045 -1.255488 -0.578344 -0.305612  0.273759  0.533964 -1.647791   \n",
       "4 -0.376387  0.863437 -0.296768  0.625518 -0.577722  0.855256  2.067983   \n",
       "\n",
       "          7  \n",
       "0 -0.244467  \n",
       "1  1.618541  \n",
       "2  2.926619  \n",
       "3 -0.963040  \n",
       "4 -0.582378  "
      ]
     },
     "execution_count": 2,
     "metadata": {},
     "output_type": "execute_result"
    }
   ],
   "source": [
    "data = sio.loadmat('Data.mat')['D']\n",
    "print(data.shape)\n",
    "df = pd.DataFrame(data)\n",
    "df.head()"
   ]
  },
  {
   "cell_type": "code",
   "execution_count": 3,
   "metadata": {},
   "outputs": [],
   "source": [
    "G = nx.Graph()\n",
    "vertex_set = [i for i in range(df.shape[1])]"
   ]
  },
  {
   "cell_type": "code",
   "execution_count": 4,
   "metadata": {},
   "outputs": [],
   "source": [
    "for v in vertex_set:\n",
    "    G.add_node(v)"
   ]
  },
  {
   "cell_type": "markdown",
   "metadata": {},
   "source": [
    "# Implementation of PC pop Algorithm"
   ]
  },
  {
   "cell_type": "code",
   "execution_count": 31,
   "metadata": {},
   "outputs": [],
   "source": [
    "def nodes_connected(u, v):\n",
    "    return u in G.neighbors(v)"
   ]
  },
  {
   "cell_type": "code",
   "execution_count": 36,
   "metadata": {},
   "outputs": [],
   "source": [
    "def compute_pairs():\n",
    "    adj_vertices = []\n",
    "    for i in range(len(vertex_set)):\n",
    "        for j in range(i+1, len(vertex_set)):\n",
    "            if nodes_connected(vertex_set[i], vertex_set[j]):\n",
    "                adj_vertices.append((vertex_set[i], vertex_set[j]))\n",
    "    return adj_vertices"
   ]
  },
  {
   "cell_type": "code",
   "execution_count": 88,
   "metadata": {},
   "outputs": [],
   "source": [
    "def remove_in_adj(x, y):\n",
    "    result = set()\n",
    "    for i in G.adj[x]:\n",
    "        if i != y:\n",
    "            result.add(i)\n",
    "    return result"
   ]
  },
  {
   "cell_type": "code",
   "execution_count": 125,
   "metadata": {},
   "outputs": [],
   "source": [
    "def compute_subsets(set_, k):\n",
    "    return list(itertools.combinations(set_, k))"
   ]
  },
  {
   "cell_type": "code",
   "execution_count": 132,
   "metadata": {},
   "outputs": [],
   "source": [
    "def finished(d):\n",
    "    all_done = True\n",
    "    for (x, y) in compute_pairs():\n",
    "        new_adj_set = remove_in_adj(x, y)\n",
    "        if len(new_adj_set) >= d:\n",
    "            all_done = False\n",
    "    return all_done"
   ]
  },
  {
   "cell_type": "code",
   "execution_count": 133,
   "metadata": {},
   "outputs": [
    {
     "ename": "IndentationError",
     "evalue": "expected an indented block (<ipython-input-133-ab6f7846d529>, line 12)",
     "output_type": "error",
     "traceback": [
      "\u001b[0;36m  File \u001b[0;32m\"<ipython-input-133-ab6f7846d529>\"\u001b[0;36m, line \u001b[0;32m12\u001b[0m\n\u001b[0;31m    for (x, y) in compute_pairs():\u001b[0m\n\u001b[0m      ^\u001b[0m\n\u001b[0;31mIndentationError\u001b[0m\u001b[0;31m:\u001b[0m expected an indented block\n"
     ]
    }
   ],
   "source": [
    "def pc_pop_algo(vertex_set, df, alpha):\n",
    "    #First step: Construct the complete undirected graph on the vertex set V\n",
    "    for i in range(len(vertex_set)):\n",
    "        for j in range(i+1, len(vertex_set)):\n",
    "            G.add_edge(vertex_set[i], vertex_set[j])\n",
    "    #Second step: Perform conditional independence tests at a given significance level α \n",
    "    #and delete edges based on the tests.\n",
    "    d = 0\n",
    "    all_done = False\n",
    "    \n",
    "    while not finished(d):\n",
    "    for (x, y) in compute_pairs():\n",
    "        new_adj_set = remove_in_adj(x, y)\n",
    "        if len(new_adj_set) >= d:\n",
    "            for z in compute_subsets(new_adj_set, d):\n",
    "                #Test conditional independance I(x, y | z) and remove edge\n",
    "                \n",
    "    "
   ]
  },
  {
   "cell_type": "markdown",
   "metadata": {},
   "source": [
    "# Try it"
   ]
  },
  {
   "cell_type": "code",
   "execution_count": 130,
   "metadata": {},
   "outputs": [
    {
     "name": "stdout",
     "output_type": "stream",
     "text": [
      "0 1\n",
      "0 2\n",
      "0 3\n",
      "0 4\n",
      "0 5\n",
      "0 6\n",
      "0 7\n",
      "1 2\n",
      "1 3\n",
      "1 4\n",
      "1 5\n",
      "1 6\n",
      "1 7\n",
      "2 3\n",
      "2 4\n",
      "2 5\n",
      "2 6\n",
      "2 7\n",
      "3 4\n",
      "3 5\n",
      "3 6\n",
      "3 7\n",
      "4 5\n",
      "4 6\n",
      "4 7\n",
      "5 6\n",
      "5 7\n",
      "6 7\n"
     ]
    }
   ],
   "source": [
    "pc_pop_algo(vertex_set, df, 0)"
   ]
  },
  {
   "cell_type": "code",
   "execution_count": 7,
   "metadata": {},
   "outputs": [
    {
     "name": "stderr",
     "output_type": "stream",
     "text": [
      "/Users/valentingarnier/anaconda3/lib/python3.7/site-packages/networkx/drawing/nx_pylab.py:611: MatplotlibDeprecationWarning: isinstance(..., numbers.Number)\n",
      "  if cb.is_numlike(alpha):\n"
     ]
    },
    {
     "data": {
      "image/png": "[encoded data removed]",
      "text/plain": [
       "<Figure size 432x288 with 1 Axes>"
      ]
     },
     "metadata": {},
     "output_type": "display_data"
    }
   ],
   "source": [
    "nx.draw(G, with_labels = True)"
   ]
  },
  {
   "cell_type": "code",
   "execution_count": null,
   "metadata": {},
   "outputs": [],
   "source": []
  }
 ],
 "metadata": {
  "kernelspec": {
   "display_name": "Python 3",
   "language": "python",
   "name": "python3"
  },
  "language_info": {
   "codemirror_mode": {
    "name": "ipython",
    "version": 3
   },
   "file_extension": ".py",
   "mimetype": "text/x-python",
   "name": "python",
   "nbconvert_exporter": "python",
   "pygments_lexer": "ipython3",
   "version": "3.7.3"
  }
 },
 "nbformat": 4,
 "nbformat_minor": 2
}
