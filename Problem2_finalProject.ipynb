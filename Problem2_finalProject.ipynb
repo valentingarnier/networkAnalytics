{
 "cells": [
  {
   "cell_type": "code",
   "execution_count": 32,
   "metadata": {},
   "outputs": [],
   "source": [
    "import networkx as nx\n",
    "import math\n",
    "import scipy.io as sio\n",
    "import pandas as pd\n",
    "import numpy as np\n",
    "import matplotlib.pyplot as plt\n",
    "from scipy.linalg import det\n",
    "from numpy import cov"
   ]
  },
  {
   "cell_type": "code",
   "execution_count": 79,
   "metadata": {},
   "outputs": [],
   "source": [
    "data = sio.loadmat('Market.mat')['DI']"
   ]
  },
  {
   "cell_type": "code",
   "execution_count": 61,
   "metadata": {},
   "outputs": [],
   "source": [
    "#the nodes are the companies:\n",
    "vertex_set = [i for i in range(12)]\n",
    "G = nx.Graph()\n",
    "for v in vertex_set:\n",
    "    G.add_node(v)"
   ]
  },
  {
   "cell_type": "code",
   "execution_count": 62,
   "metadata": {},
   "outputs": [],
   "source": [
    "all_nodes = set(vertex_set)"
   ]
  },
  {
   "cell_type": "code",
   "execution_count": 82,
   "metadata": {},
   "outputs": [
    {
     "data": {
      "text/plain": [
       "{0, 1, 2, 3, 4, 5, 6, 7, 8, 9, 10, 11}"
      ]
     },
     "execution_count": 82,
     "metadata": {},
     "output_type": "execute_result"
    }
   ],
   "source": [
    "all_nodes"
   ]
  },
  {
   "cell_type": "code",
   "execution_count": 80,
   "metadata": {},
   "outputs": [
    {
     "name": "stdout",
     "output_type": "stream",
     "text": [
      "(7, 190, 12)\n"
     ]
    }
   ],
   "source": [
    "print(data.shape)"
   ]
  },
  {
   "cell_type": "code",
   "execution_count": 83,
   "metadata": {},
   "outputs": [
    {
     "name": "stdout",
     "output_type": "stream",
     "text": [
      "(7, 190) (10, 7, 190)\n",
      "(7, 190) (10, 7, 190)\n",
      "(7, 190) (10, 7, 190)\n",
      "(7, 190) (10, 7, 190)\n",
      "(7, 190) (10, 7, 190)\n",
      "(7, 190) (10, 7, 190)\n",
      "(7, 190) (10, 7, 190)\n",
      "(7, 190) (10, 7, 190)\n",
      "(7, 190) (10, 7, 190)\n",
      "(7, 190) (10, 7, 190)\n",
      "(7, 190) (10, 7, 190)\n",
      "(7, 190) (10, 7, 190)\n",
      "(7, 190) (10, 7, 190)\n",
      "(7, 190) (10, 7, 190)\n",
      "(7, 190) (10, 7, 190)\n",
      "(7, 190) (10, 7, 190)\n",
      "(7, 190) (10, 7, 190)\n",
      "(7, 190) (10, 7, 190)\n",
      "(7, 190) (10, 7, 190)\n",
      "(7, 190) (10, 7, 190)\n",
      "(7, 190) (10, 7, 190)\n",
      "(7, 190) (10, 7, 190)\n",
      "(7, 190) (10, 7, 190)\n",
      "(7, 190) (10, 7, 190)\n",
      "(7, 190) (10, 7, 190)\n",
      "(7, 190) (10, 7, 190)\n",
      "(7, 190) (10, 7, 190)\n",
      "(7, 190) (10, 7, 190)\n",
      "(7, 190) (10, 7, 190)\n",
      "(7, 190) (10, 7, 190)\n",
      "(7, 190) (10, 7, 190)\n",
      "(7, 190) (10, 7, 190)\n",
      "(7, 190) (10, 7, 190)\n",
      "(7, 190) (10, 7, 190)\n",
      "(7, 190) (10, 7, 190)\n",
      "(7, 190) (10, 7, 190)\n",
      "(7, 190) (10, 7, 190)\n",
      "(7, 190) (10, 7, 190)\n",
      "(7, 190) (10, 7, 190)\n",
      "(7, 190) (10, 7, 190)\n",
      "(7, 190) (10, 7, 190)\n",
      "(7, 190) (10, 7, 190)\n",
      "(7, 190) (10, 7, 190)\n",
      "(7, 190) (10, 7, 190)\n",
      "(7, 190) (10, 7, 190)\n",
      "(7, 190) (10, 7, 190)\n",
      "(7, 190) (10, 7, 190)\n",
      "(7, 190) (10, 7, 190)\n",
      "(7, 190) (10, 7, 190)\n",
      "(7, 190) (10, 7, 190)\n",
      "(7, 190) (10, 7, 190)\n",
      "(7, 190) (10, 7, 190)\n",
      "(7, 190) (10, 7, 190)\n",
      "(7, 190) (10, 7, 190)\n",
      "(7, 190) (10, 7, 190)\n",
      "(7, 190) (10, 7, 190)\n",
      "(7, 190) (10, 7, 190)\n",
      "(7, 190) (10, 7, 190)\n",
      "(7, 190) (10, 7, 190)\n",
      "(7, 190) (10, 7, 190)\n",
      "(7, 190) (10, 7, 190)\n",
      "(7, 190) (10, 7, 190)\n",
      "(7, 190) (10, 7, 190)\n",
      "(7, 190) (10, 7, 190)\n",
      "(7, 190) (10, 7, 190)\n",
      "(7, 190) (10, 7, 190)\n",
      "(7, 190) (10, 7, 190)\n",
      "(7, 190) (10, 7, 190)\n",
      "(7, 190) (10, 7, 190)\n",
      "(7, 190) (10, 7, 190)\n",
      "(7, 190) (10, 7, 190)\n",
      "(7, 190) (10, 7, 190)\n",
      "(7, 190) (10, 7, 190)\n",
      "(7, 190) (10, 7, 190)\n",
      "(7, 190) (10, 7, 190)\n",
      "(7, 190) (10, 7, 190)\n",
      "(7, 190) (10, 7, 190)\n",
      "(7, 190) (10, 7, 190)\n",
      "(7, 190) (10, 7, 190)\n",
      "(7, 190) (10, 7, 190)\n",
      "(7, 190) (10, 7, 190)\n",
      "(7, 190) (10, 7, 190)\n",
      "(7, 190) (10, 7, 190)\n",
      "(7, 190) (10, 7, 190)\n",
      "(7, 190) (10, 7, 190)\n",
      "(7, 190) (10, 7, 190)\n",
      "(7, 190) (10, 7, 190)\n",
      "(7, 190) (10, 7, 190)\n",
      "(7, 190) (10, 7, 190)\n",
      "(7, 190) (10, 7, 190)\n",
      "(7, 190) (10, 7, 190)\n",
      "(7, 190) (10, 7, 190)\n",
      "(7, 190) (10, 7, 190)\n",
      "(7, 190) (10, 7, 190)\n",
      "(7, 190) (10, 7, 190)\n",
      "(7, 190) (10, 7, 190)\n",
      "(7, 190) (10, 7, 190)\n",
      "(7, 190) (10, 7, 190)\n",
      "(7, 190) (10, 7, 190)\n",
      "(7, 190) (10, 7, 190)\n",
      "(7, 190) (10, 7, 190)\n",
      "(7, 190) (10, 7, 190)\n",
      "(7, 190) (10, 7, 190)\n",
      "(7, 190) (10, 7, 190)\n",
      "(7, 190) (10, 7, 190)\n",
      "(7, 190) (10, 7, 190)\n",
      "(7, 190) (10, 7, 190)\n",
      "(7, 190) (10, 7, 190)\n",
      "(7, 190) (10, 7, 190)\n",
      "(7, 190) (10, 7, 190)\n",
      "(7, 190) (10, 7, 190)\n",
      "(7, 190) (10, 7, 190)\n",
      "(7, 190) (10, 7, 190)\n",
      "(7, 190) (10, 7, 190)\n",
      "(7, 190) (10, 7, 190)\n",
      "(7, 190) (10, 7, 190)\n",
      "(7, 190) (10, 7, 190)\n",
      "(7, 190) (10, 7, 190)\n",
      "(7, 190) (10, 7, 190)\n",
      "(7, 190) (10, 7, 190)\n",
      "(7, 190) (10, 7, 190)\n",
      "(7, 190) (10, 7, 190)\n",
      "(7, 190) (10, 7, 190)\n",
      "(7, 190) (10, 7, 190)\n",
      "(7, 190) (10, 7, 190)\n",
      "(7, 190) (10, 7, 190)\n",
      "(7, 190) (10, 7, 190)\n",
      "(7, 190) (10, 7, 190)\n",
      "(7, 190) (10, 7, 190)\n",
      "(7, 190) (10, 7, 190)\n",
      "(7, 190) (10, 7, 190)\n",
      "(7, 190) (10, 7, 190)\n"
     ]
    }
   ],
   "source": [
    "for i in vertex_set:\n",
    "    for j in vertex_set:\n",
    "        if i == j:\n",
    "            continue\n",
    "        else:\n",
    "            s_x = {i}\n",
    "            s_y = {j}\n",
    "            s_z = all_nodes - s_x - s_y\n",
    "            x_t = data[:,:,i]  #company i\n",
    "            y_t = data[:,:,j]  #company j\n",
    "\n",
    "            z_t = [] #remaining companies\n",
    "            for k in s_z:\n",
    "                z_t.append(data[:,:,k])\n",
    "                \n",
    "            z_t = np.asarray(z_t)    \n",
    "\n",
    "            print(y_t.shape,z_t.shape)\n",
    "            \n",
    "            #for t in np.arange(0,7)+1:\n",
    "                \n",
    "             #   print(y_t[:t,:].shape,z_t[:t,:,:].shape)\n",
    "                #m1 = np.concatenate()\n"
   ]
  },
  {
   "cell_type": "code",
   "execution_count": null,
   "metadata": {},
   "outputs": [],
   "source": [
    "nx.draw(G, with_labels = True)"
   ]
  }
 ],
 "metadata": {
  "kernelspec": {
   "display_name": "Python 3",
   "language": "python",
   "name": "python3"
  },
  "language_info": {
   "codemirror_mode": {
    "name": "ipython",
    "version": 3
   },
   "file_extension": ".py",
   "mimetype": "text/x-python",
   "name": "python",
   "nbconvert_exporter": "python",
   "pygments_lexer": "ipython3",
   "version": "3.7.0"
  },
  "latex_envs": {
   "LaTeX_envs_menu_present": true,
   "autoclose": false,
   "autocomplete": true,
   "bibliofile": "biblio.bib",
   "cite_by": "apalike",
   "current_citInitial": 1,
   "eqLabelWithNumbers": true,
   "eqNumInitial": 1,
   "hotkeys": {
    "equation": "Ctrl-E",
    "itemize": "Ctrl-I"
   },
   "labels_anchors": false,
   "latex_user_defs": false,
   "report_style_numbering": false,
   "user_envs_cfg": false
  },
  "toc": {
   "base_numbering": 1,
   "nav_menu": {},
   "number_sections": true,
   "sideBar": true,
   "skip_h1_title": false,
   "title_cell": "Table of Contents",
   "title_sidebar": "Contents",
   "toc_cell": false,
   "toc_position": {},
   "toc_section_display": true,
   "toc_window_display": false
  }
 },
 "nbformat": 4,
 "nbformat_minor": 2
}
