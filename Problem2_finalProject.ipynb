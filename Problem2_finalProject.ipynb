{
 "cells": [
  {
   "cell_type": "code",
   "execution_count": 1,
   "metadata": {},
   "outputs": [],
   "source": [
    "import networkx as nx\n",
    "import scipy.io as sio\n",
    "import numpy as np\n",
    "import matplotlib.pyplot as plt\n",
    "from scipy.linalg import det\n",
    "from numpy import cov"
   ]
  },
  {
   "cell_type": "code",
   "execution_count": 2,
   "metadata": {},
   "outputs": [
    {
     "data": {
      "text/plain": [
       "(7, 190, 12)"
      ]
     },
     "execution_count": 2,
     "metadata": {},
     "output_type": "execute_result"
    }
   ],
   "source": [
    "data = sio.loadmat('Market.mat')['DI']\n",
    "data.shape"
   ]
  },
  {
   "cell_type": "code",
   "execution_count": 3,
   "metadata": {},
   "outputs": [],
   "source": [
    "T = 7\n",
    "P = 190\n",
    "N = 12"
   ]
  },
  {
   "cell_type": "code",
   "execution_count": 4,
   "metadata": {},
   "outputs": [],
   "source": [
    "#the nodes are the companies:\n",
    "vertex_set = [i for i in range(12)]\n",
    "G = nx.DiGraph()\n",
    "for v in vertex_set:\n",
    "    G.add_node(v)"
   ]
  },
  {
   "cell_type": "code",
   "execution_count": 5,
   "metadata": {},
   "outputs": [],
   "source": [
    "all_nodes = set(vertex_set)"
   ]
  },
  {
   "cell_type": "code",
   "execution_count": 6,
   "metadata": {},
   "outputs": [],
   "source": [
    "I = np.zeros((N,N))"
   ]
  },
  {
   "cell_type": "code",
   "execution_count": 7,
   "metadata": {},
   "outputs": [],
   "source": [
    "T = 7\n",
    "P = 190\n",
    "N = 12"
   ]
  },
  {
   "cell_type": "code",
   "execution_count": 8,
   "metadata": {},
   "outputs": [],
   "source": [
    "#the nodes are the companies:\n",
    "vertex_set = [i for i in range(12)]\n",
    "G = nx.DiGraph()\n",
    "for v in vertex_set:\n",
    "    G.add_node(v)"
   ]
  },
  {
   "cell_type": "code",
   "execution_count": 9,
   "metadata": {},
   "outputs": [],
   "source": [
    "all_nodes = set(vertex_set)"
   ]
  },
  {
   "cell_type": "code",
   "execution_count": 10,
   "metadata": {},
   "outputs": [],
   "source": [
    "I = np.zeros((N,N))"
   ]
  },
  {
   "cell_type": "code",
   "execution_count": 11,
   "metadata": {},
   "outputs": [],
   "source": [
    "for i in vertex_set:\n",
    "    for j in vertex_set:\n",
    "        if i == j:\n",
    "            continue\n",
    "        else:\n",
    "            s_x = {i}\n",
    "            s_y = {j}\n",
    "            s_z = all_nodes - s_x - s_y\n",
    "            x_t = data[:,:,i]  #company i\n",
    "            y_t = data[:,:,j]  #company j\n",
    "\n",
    "            z_t = [] #remaining companies\n",
    "            for k in s_z:\n",
    "                z_t.append(data[:,:,k])\n",
    "                \n",
    "            z_t = np.asarray(z_t)\n",
    "            \n",
    "            k = 0\n",
    "            for t in np.arange(1,T+1):\n",
    "                m1 = np.concatenate( (y_t[:t+1,:].reshape(-1,P),z_t[:,:t,:].reshape(-1,P)))\n",
    "                m2 = np.concatenate( (x_t[:t,:].reshape(-1,P) , np.concatenate((y_t[:t,:].reshape(-1,P),z_t[:,:t,:].reshape(-1,P)))) )\n",
    "                m3 = np.concatenate( (y_t[:t,:].reshape(-1,P),z_t[:,:t,:].reshape(-1,P)))\n",
    "                m4 = np.concatenate( (x_t[:t,:].reshape(-1,P) , np.concatenate((y_t[:t+1,:].reshape(-1,P),z_t[:,:t,:].reshape(-1,P)))) )\n",
    "        \n",
    "                c1 = cov(m1)\n",
    "                d1 = det(c1)\n",
    "\n",
    "                c2 = cov(m2)\n",
    "                d2 = det(c2)\n",
    "\n",
    "                c3 = cov(m3)\n",
    "                d3 = det(c3)\n",
    "\n",
    "                c4 = cov(m4)                \n",
    "                d4 = det(c4)\n",
    "                \n",
    "                k += (np.log(d1) + np.log(d2) - np.log(d3) - np.log(d4))\n",
    "                \n",
    "            DI = 0.5 * k\n",
    "            I[i,j] = DI"
   ]
  },
  {
   "cell_type": "code",
   "execution_count": 12,
   "metadata": {
    "scrolled": false
   },
   "outputs": [
    {
     "data": {
      "text/plain": [
       "array([[0.        , 0.28222781, 0.25001481, 0.28977971, 0.4662252 ,\n",
       "        0.49941287, 0.63746525, 0.67825494, 0.55202974, 0.38308353,\n",
       "        0.38040282, 0.1750656 ],\n",
       "       [0.33695624, 0.        , 0.25050208, 0.4276407 , 0.31911559,\n",
       "        0.25526359, 0.08660567, 0.29054143, 0.2434451 , 0.19130077,\n",
       "        0.17433475, 0.15930557],\n",
       "       [0.21173331, 0.38404674, 0.        , 0.16129767, 0.57070903,\n",
       "        0.14265086, 0.23366249, 0.39982249, 0.24913004, 0.4364036 ,\n",
       "        0.34513594, 0.27613574],\n",
       "       [0.20028576, 0.18118151, 0.31836535, 0.        , 0.27679109,\n",
       "        0.15862578, 0.23834218, 0.30862763, 0.42021785, 0.25240935,\n",
       "        0.20675709, 0.27745761],\n",
       "       [0.34378746, 0.27428976, 0.26614142, 0.33643824, 0.        ,\n",
       "        0.2648248 , 0.31651899, 0.29901873, 0.33741943, 0.39862906,\n",
       "        0.36485287, 0.24712631],\n",
       "       [0.34997715, 0.41537613, 0.20049108, 0.34020751, 0.30044046,\n",
       "        0.        , 0.19748386, 0.63530744, 0.223722  , 0.4245407 ,\n",
       "        0.24797238, 0.32717431],\n",
       "       [0.14815413, 0.33660402, 0.31265063, 0.32294711, 0.13173647,\n",
       "        0.29783054, 0.        , 0.17909465, 0.19822788, 0.21373637,\n",
       "        0.35045905, 0.24534904],\n",
       "       [0.48029574, 0.54821696, 0.33987091, 0.35998917, 0.5420271 ,\n",
       "        0.21012607, 0.36802304, 0.        , 0.20475945, 0.28430185,\n",
       "        0.3815342 , 0.40815771],\n",
       "       [0.43629977, 0.34185276, 0.24986097, 0.09962784, 0.31873531,\n",
       "        0.13149462, 0.31769289, 0.19858516, 0.        , 0.26848412,\n",
       "        0.27292403, 0.25678255],\n",
       "       [0.29048867, 0.41240693, 0.47331434, 0.47691673, 0.30338111,\n",
       "        0.270169  , 0.21721651, 0.42317877, 0.31924194, 0.        ,\n",
       "        0.18412701, 0.21241114],\n",
       "       [0.23038158, 0.25955579, 0.15201884, 0.16382315, 0.24397987,\n",
       "        0.24218363, 0.13614083, 0.12083837, 0.08679172, 0.16873181,\n",
       "        0.        , 0.18431819],\n",
       "       [0.11099503, 0.14517191, 0.22995966, 0.23958642, 0.10684641,\n",
       "        0.1655735 , 0.17097798, 0.15503789, 0.23699508, 0.24618711,\n",
       "        0.29199072, 0.        ]])"
      ]
     },
     "execution_count": 12,
     "metadata": {},
     "output_type": "execute_result"
    }
   ],
   "source": [
    "I"
   ]
  },
  {
   "cell_type": "code",
   "execution_count": 13,
   "metadata": {},
   "outputs": [],
   "source": [
    "def edge(a):\n",
    "    if a > 0.6:\n",
    "        return 1\n",
    "    else:\n",
    "        return 0\n",
    "\n",
    "detect__edge = np.vectorize(edge)\n",
    "A_M =  np.vectorize(edge)( np.matrix(I) )"
   ]
  },
  {
   "cell_type": "code",
   "execution_count": 14,
   "metadata": {},
   "outputs": [
    {
     "data": {
      "text/plain": [
       "matrix([[0, 0, 0, 0, 0, 0, 1, 1, 0, 0, 0, 0],\n",
       "        [0, 0, 0, 0, 0, 0, 0, 0, 0, 0, 0, 0],\n",
       "        [0, 0, 0, 0, 0, 0, 0, 0, 0, 0, 0, 0],\n",
       "        [0, 0, 0, 0, 0, 0, 0, 0, 0, 0, 0, 0],\n",
       "        [0, 0, 0, 0, 0, 0, 0, 0, 0, 0, 0, 0],\n",
       "        [0, 0, 0, 0, 0, 0, 0, 1, 0, 0, 0, 0],\n",
       "        [0, 0, 0, 0, 0, 0, 0, 0, 0, 0, 0, 0],\n",
       "        [0, 0, 0, 0, 0, 0, 0, 0, 0, 0, 0, 0],\n",
       "        [0, 0, 0, 0, 0, 0, 0, 0, 0, 0, 0, 0],\n",
       "        [0, 0, 0, 0, 0, 0, 0, 0, 0, 0, 0, 0],\n",
       "        [0, 0, 0, 0, 0, 0, 0, 0, 0, 0, 0, 0],\n",
       "        [0, 0, 0, 0, 0, 0, 0, 0, 0, 0, 0, 0]])"
      ]
     },
     "execution_count": 14,
     "metadata": {},
     "output_type": "execute_result"
    }
   ],
   "source": [
    "A_M"
   ]
  },
  {
   "cell_type": "code",
   "execution_count": 15,
   "metadata": {},
   "outputs": [
    {
     "data": {
      "image/png": "[encoded data removed]",
      "text/plain": [
       "<Figure size 432x288 with 1 Axes>"
      ]
     },
     "metadata": {},
     "output_type": "display_data"
    }
   ],
   "source": [
    "mapping={0:'APPL',1:'CSCO',2:'DEL',3:'EMC',4:'GOG' , 5:'HP', 6:'INT', 7:'MSFT', 8:'ORC', 9:'IBM', 10:'TXN', 11:'XRX'}\n",
    "G=nx.from_numpy_matrix(A_M,create_using=nx.MultiDiGraph())\n",
    "H=nx.relabel_nodes(G,mapping)\n",
    "pos=nx.spring_layout(H,scale=2,k= 0.8, iterations=10) # double distance between all nodes\n",
    "nx.draw(H,pos = pos,with_labels=True,node_size=800,node_color='C')"
   ]
  }
 ],
 "metadata": {
  "kernelspec": {
   "display_name": "Python 3",
   "language": "python",
   "name": "python3"
  },
  "language_info": {
   "codemirror_mode": {
    "name": "ipython",
    "version": 3
   },
   "file_extension": ".py",
   "mimetype": "text/x-python",
   "name": "python",
   "nbconvert_exporter": "python",
   "pygments_lexer": "ipython3",
   "version": "3.7.0"
  },
  "latex_envs": {
   "LaTeX_envs_menu_present": true,
   "autoclose": false,
   "autocomplete": true,
   "bibliofile": "biblio.bib",
   "cite_by": "apalike",
   "current_citInitial": 1,
   "eqLabelWithNumbers": true,
   "eqNumInitial": 1,
   "hotkeys": {
    "equation": "Ctrl-E",
    "itemize": "Ctrl-I"
   },
   "labels_anchors": false,
   "latex_user_defs": false,
   "report_style_numbering": false,
   "user_envs_cfg": false
  },
  "toc": {
   "base_numbering": 1,
   "nav_menu": {},
   "number_sections": true,
   "sideBar": true,
   "skip_h1_title": false,
   "title_cell": "Table of Contents",
   "title_sidebar": "Contents",
   "toc_cell": false,
   "toc_position": {},
   "toc_section_display": true,
   "toc_window_display": false
  }
 },
 "nbformat": 4,
 "nbformat_minor": 2
}
