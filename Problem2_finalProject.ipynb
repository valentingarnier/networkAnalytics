{
 "cells": [
  {
   "cell_type": "code",
   "execution_count": 1,
   "metadata": {},
   "outputs": [],
   "source": [
    "import networkx as nx\n",
    "import math\n",
    "import scipy.io as sio\n",
    "import pandas as pd\n",
    "import numpy as np\n",
    "import matplotlib.pyplot as plt\n",
    "from scipy.linalg import det\n",
    "from numpy import cov"
   ]
  },
  {
   "cell_type": "code",
   "execution_count": 2,
   "metadata": {},
   "outputs": [
    {
     "data": {
      "text/plain": [
       "(7, 190, 12)"
      ]
     },
     "execution_count": 2,
     "metadata": {},
     "output_type": "execute_result"
    }
   ],
   "source": [
    "data = sio.loadmat('Market.mat')['DI']\n",
    "data.shape"
   ]
  },
  {
   "cell_type": "code",
   "execution_count": 3,
   "metadata": {},
   "outputs": [],
   "source": [
    "T = 7\n",
    "P = 190\n",
    "N = 12"
   ]
  },
  {
   "cell_type": "code",
   "execution_count": 4,
   "metadata": {},
   "outputs": [],
   "source": [
    "#the nodes are the companies:\n",
    "vertex_set = [i for i in range(12)]\n",
    "G = nx.DiGraph()\n",
    "for v in vertex_set:\n",
    "    G.add_node(v)"
   ]
  },
  {
   "cell_type": "code",
   "execution_count": 5,
   "metadata": {},
   "outputs": [],
   "source": [
    "all_nodes = set(vertex_set)"
   ]
  },
  {
   "cell_type": "code",
   "execution_count": 6,
   "metadata": {},
   "outputs": [],
   "source": [
    "I = np.zeros((N,N))"
   ]
  },
  {
   "cell_type": "code",
   "execution_count": 7,
   "metadata": {},
   "outputs": [
    {
     "name": "stdout",
     "output_type": "stream",
     "text": [
      "3.031966461010392e-54\n",
      "2.837088795853228e-112\n",
      "4.432301329171123e-174\n",
      "5.412551516152523e-239\n",
      "1.570364466044017e-307\n",
      "0.0\n"
     ]
    },
    {
     "ename": "ZeroDivisionError",
     "evalue": "float division by zero",
     "output_type": "error",
     "traceback": [
      "\u001b[0;31m---------------------------------------------------------------------------\u001b[0m",
      "\u001b[0;31mZeroDivisionError\u001b[0m                         Traceback (most recent call last)",
      "\u001b[0;32m<ipython-input-7-732480c605d3>\u001b[0m in \u001b[0;36m<module>\u001b[0;34m()\u001b[0m\n\u001b[1;32m     36\u001b[0m \u001b[0;34m\u001b[0m\u001b[0m\n\u001b[1;32m     37\u001b[0m                 \u001b[0mprint\u001b[0m\u001b[0;34m(\u001b[0m\u001b[0md3\u001b[0m\u001b[0;34m*\u001b[0m\u001b[0md4\u001b[0m\u001b[0;34m)\u001b[0m\u001b[0;34m\u001b[0m\u001b[0m\n\u001b[0;32m---> 38\u001b[0;31m                 \u001b[0mk\u001b[0m \u001b[0;34m+=\u001b[0m \u001b[0mnp\u001b[0m\u001b[0;34m.\u001b[0m\u001b[0mlog\u001b[0m\u001b[0;34m(\u001b[0m \u001b[0;34m(\u001b[0m\u001b[0md1\u001b[0m \u001b[0;34m*\u001b[0m \u001b[0md2\u001b[0m\u001b[0;34m)\u001b[0m \u001b[0;34m/\u001b[0m \u001b[0;34m(\u001b[0m\u001b[0md3\u001b[0m \u001b[0;34m*\u001b[0m \u001b[0md4\u001b[0m\u001b[0;34m)\u001b[0m \u001b[0;34m)\u001b[0m\u001b[0;34m\u001b[0m\u001b[0m\n\u001b[0m\u001b[1;32m     39\u001b[0m \u001b[0;34m\u001b[0m\u001b[0m\n\u001b[1;32m     40\u001b[0m             \u001b[0mDI\u001b[0m \u001b[0;34m=\u001b[0m \u001b[0;36m0.5\u001b[0m \u001b[0;34m*\u001b[0m \u001b[0mk\u001b[0m\u001b[0;34m\u001b[0m\u001b[0m\n",
      "\u001b[0;31mZeroDivisionError\u001b[0m: float division by zero"
     ]
    }
   ],
   "source": [
    "for i in vertex_set:\n",
    "    for j in vertex_set:\n",
    "        if i == j:\n",
    "            continue\n",
    "        else:\n",
    "            s_x = {i}\n",
    "            s_y = {j}\n",
    "            s_z = all_nodes - s_x - s_y\n",
    "            x_t = data[:,:,i]  #company i\n",
    "            y_t = data[:,:,j]  #company j\n",
    "\n",
    "            z_t = [] #remaining companies\n",
    "            for k in s_z:\n",
    "                z_t.append(data[:,:,k])\n",
    "                \n",
    "            z_t = np.asarray(z_t)\n",
    "            \n",
    "            k = 0\n",
    "            for t in np.arange(1,T+1):\n",
    "                m1 = np.concatenate( (y_t[:t+1,:].reshape(-1,P),z_t[:,:t,:].reshape(-1,P)))\n",
    "                m2 = np.concatenate( (x_t[:t,:].reshape(-1,P) , np.concatenate((y_t[:t,:].reshape(-1,P),z_t[:,:t,:].reshape(-1,P)))) )\n",
    "                m3 = np.concatenate( (y_t[:t,:].reshape(-1,P),z_t[:,:t,:].reshape(-1,P)))\n",
    "                m4 = np.concatenate( (x_t[:t,:].reshape(-1,P) , np.concatenate((y_t[:t+1,:].reshape(-1,P),z_t[:,:t,:].reshape(-1,P)))) )\n",
    "        \n",
    "                c1 = cov(m1)\n",
    "                d1 = det(c1)\n",
    "\n",
    "                c2 = cov(m2)\n",
    "                d2 = det(c2)\n",
    "\n",
    "                c3 = cov(m3)\n",
    "                d3 = det(c3)\n",
    "\n",
    "                c4 = cov(m4)                \n",
    "                d4 = det(c4)\n",
    "                \n",
    "                print(d3*d4)\n",
    "                k += np.log( (d1 * d2) / (d3 * d4) )\n",
    "                \n",
    "            DI = 0.5 * k\n",
    "            I[i,j] = DI"
   ]
  },
  {
   "cell_type": "code",
   "execution_count": null,
   "metadata": {},
   "outputs": [],
   "source": [
    "I"
   ]
  },
  {
   "cell_type": "code",
   "execution_count": null,
   "metadata": {},
   "outputs": [],
   "source": [
    "for i in vertex_set:\n",
    "    for j in vertex_set:\n",
    "        G.add_edge(i, j, weight = I[i,j])\n",
    "nx.draw(G, with_labels = True)"
   ]
  },
  {
   "cell_type": "code",
   "execution_count": null,
   "metadata": {},
   "outputs": [],
   "source": []
  },
  {
   "cell_type": "code",
   "execution_count": null,
   "metadata": {},
   "outputs": [],
   "source": []
  }
 ],
 "metadata": {
  "kernelspec": {
   "display_name": "Python 3",
   "language": "python",
   "name": "python3"
  },
  "language_info": {
   "codemirror_mode": {
    "name": "ipython",
    "version": 3
   },
   "file_extension": ".py",
   "mimetype": "text/x-python",
   "name": "python",
   "nbconvert_exporter": "python",
   "pygments_lexer": "ipython3",
   "version": "3.7.0"
  },
  "latex_envs": {
   "LaTeX_envs_menu_present": true,
   "autoclose": false,
   "autocomplete": true,
   "bibliofile": "biblio.bib",
   "cite_by": "apalike",
   "current_citInitial": 1,
   "eqLabelWithNumbers": true,
   "eqNumInitial": 1,
   "hotkeys": {
    "equation": "Ctrl-E",
    "itemize": "Ctrl-I"
   },
   "labels_anchors": false,
   "latex_user_defs": false,
   "report_style_numbering": false,
   "user_envs_cfg": false
  },
  "toc": {
   "base_numbering": 1,
   "nav_menu": {},
   "number_sections": true,
   "sideBar": true,
   "skip_h1_title": false,
   "title_cell": "Table of Contents",
   "title_sidebar": "Contents",
   "toc_cell": false,
   "toc_position": {},
   "toc_section_display": true,
   "toc_window_display": false
  }
 },
 "nbformat": 4,
 "nbformat_minor": 2
}
